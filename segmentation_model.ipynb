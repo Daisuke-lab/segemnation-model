{
  "nbformat": 4,
  "nbformat_minor": 0,
  "metadata": {
    "accelerator": "GPU",
    "colab": {
      "name": "segmentation_model.ipynb",
      "provenance": [],
      "collapsed_sections": [],
      "mount_file_id": "1S3iGlNNJjqvTOMsTqqoirL_VkHagO9Am",
      "authorship_tag": "ABX9TyOoTHnCzypSqxv3wapn36Pj",
      "include_colab_link": true
    },
    "kernelspec": {
      "display_name": "Python 3",
      "name": "python3"
    },
    "widgets": {
      "application/vnd.jupyter.widget-state+json": {
        "5ad81a008a84432689ee734c13a654f0": {
          "model_module": "@jupyter-widgets/controls",
          "model_name": "HBoxModel",
          "state": {
            "_view_name": "HBoxView",
            "_dom_classes": [],
            "_model_name": "HBoxModel",
            "_view_module": "@jupyter-widgets/controls",
            "_model_module_version": "1.5.0",
            "_view_count": null,
            "_view_module_version": "1.5.0",
            "box_style": "",
            "layout": "IPY_MODEL_ea4812f1870e4db2b74a4b3cc86bd834",
            "_model_module": "@jupyter-widgets/controls",
            "children": [
              "IPY_MODEL_48fe44350ea041fa86cc4b5371cef91a",
              "IPY_MODEL_504df944ec594db0b358ce186e7f2dc0"
            ]
          }
        },
        "ea4812f1870e4db2b74a4b3cc86bd834": {
          "model_module": "@jupyter-widgets/base",
          "model_name": "LayoutModel",
          "state": {
            "_view_name": "LayoutView",
            "grid_template_rows": null,
            "right": null,
            "justify_content": null,
            "_view_module": "@jupyter-widgets/base",
            "overflow": null,
            "_model_module_version": "1.2.0",
            "_view_count": null,
            "flex_flow": null,
            "width": null,
            "min_width": null,
            "border": null,
            "align_items": null,
            "bottom": null,
            "_model_module": "@jupyter-widgets/base",
            "top": null,
            "grid_column": null,
            "overflow_y": null,
            "overflow_x": null,
            "grid_auto_flow": null,
            "grid_area": null,
            "grid_template_columns": null,
            "flex": null,
            "_model_name": "LayoutModel",
            "justify_items": null,
            "grid_row": null,
            "max_height": null,
            "align_content": null,
            "visibility": null,
            "align_self": null,
            "height": null,
            "min_height": null,
            "padding": null,
            "grid_auto_rows": null,
            "grid_gap": null,
            "max_width": null,
            "order": null,
            "_view_module_version": "1.2.0",
            "grid_template_areas": null,
            "object_position": null,
            "object_fit": null,
            "grid_auto_columns": null,
            "margin": null,
            "display": null,
            "left": null
          }
        },
        "48fe44350ea041fa86cc4b5371cef91a": {
          "model_module": "@jupyter-widgets/controls",
          "model_name": "FloatProgressModel",
          "state": {
            "_view_name": "ProgressView",
            "style": "IPY_MODEL_5909ca9d61674086922e40f5ec9e361e",
            "_dom_classes": [],
            "description": "100%",
            "_model_name": "FloatProgressModel",
            "bar_style": "success",
            "max": 100441675,
            "_view_module": "@jupyter-widgets/controls",
            "_model_module_version": "1.5.0",
            "value": 100441675,
            "_view_count": null,
            "_view_module_version": "1.5.0",
            "orientation": "horizontal",
            "min": 0,
            "description_tooltip": null,
            "_model_module": "@jupyter-widgets/controls",
            "layout": "IPY_MODEL_5aa13267f901456489c1aacd9be93ca1"
          }
        },
        "504df944ec594db0b358ce186e7f2dc0": {
          "model_module": "@jupyter-widgets/controls",
          "model_name": "HTMLModel",
          "state": {
            "_view_name": "HTMLView",
            "style": "IPY_MODEL_db21cfcc5eec44d0bd5343e94d9e36ba",
            "_dom_classes": [],
            "description": "",
            "_model_name": "HTMLModel",
            "placeholder": "​",
            "_view_module": "@jupyter-widgets/controls",
            "_model_module_version": "1.5.0",
            "value": " 95.8M/95.8M [03:47&lt;00:00, 442kB/s]",
            "_view_count": null,
            "_view_module_version": "1.5.0",
            "description_tooltip": null,
            "_model_module": "@jupyter-widgets/controls",
            "layout": "IPY_MODEL_02cf0c4f4b2a466aa6b9aa4dd337d4c3"
          }
        },
        "5909ca9d61674086922e40f5ec9e361e": {
          "model_module": "@jupyter-widgets/controls",
          "model_name": "ProgressStyleModel",
          "state": {
            "_view_name": "StyleView",
            "_model_name": "ProgressStyleModel",
            "description_width": "initial",
            "_view_module": "@jupyter-widgets/base",
            "_model_module_version": "1.5.0",
            "_view_count": null,
            "_view_module_version": "1.2.0",
            "bar_color": null,
            "_model_module": "@jupyter-widgets/controls"
          }
        },
        "5aa13267f901456489c1aacd9be93ca1": {
          "model_module": "@jupyter-widgets/base",
          "model_name": "LayoutModel",
          "state": {
            "_view_name": "LayoutView",
            "grid_template_rows": null,
            "right": null,
            "justify_content": null,
            "_view_module": "@jupyter-widgets/base",
            "overflow": null,
            "_model_module_version": "1.2.0",
            "_view_count": null,
            "flex_flow": null,
            "width": null,
            "min_width": null,
            "border": null,
            "align_items": null,
            "bottom": null,
            "_model_module": "@jupyter-widgets/base",
            "top": null,
            "grid_column": null,
            "overflow_y": null,
            "overflow_x": null,
            "grid_auto_flow": null,
            "grid_area": null,
            "grid_template_columns": null,
            "flex": null,
            "_model_name": "LayoutModel",
            "justify_items": null,
            "grid_row": null,
            "max_height": null,
            "align_content": null,
            "visibility": null,
            "align_self": null,
            "height": null,
            "min_height": null,
            "padding": null,
            "grid_auto_rows": null,
            "grid_gap": null,
            "max_width": null,
            "order": null,
            "_view_module_version": "1.2.0",
            "grid_template_areas": null,
            "object_position": null,
            "object_fit": null,
            "grid_auto_columns": null,
            "margin": null,
            "display": null,
            "left": null
          }
        },
        "db21cfcc5eec44d0bd5343e94d9e36ba": {
          "model_module": "@jupyter-widgets/controls",
          "model_name": "DescriptionStyleModel",
          "state": {
            "_view_name": "StyleView",
            "_model_name": "DescriptionStyleModel",
            "description_width": "",
            "_view_module": "@jupyter-widgets/base",
            "_model_module_version": "1.5.0",
            "_view_count": null,
            "_view_module_version": "1.2.0",
            "_model_module": "@jupyter-widgets/controls"
          }
        },
        "02cf0c4f4b2a466aa6b9aa4dd337d4c3": {
          "model_module": "@jupyter-widgets/base",
          "model_name": "LayoutModel",
          "state": {
            "_view_name": "LayoutView",
            "grid_template_rows": null,
            "right": null,
            "justify_content": null,
            "_view_module": "@jupyter-widgets/base",
            "overflow": null,
            "_model_module_version": "1.2.0",
            "_view_count": null,
            "flex_flow": null,
            "width": null,
            "min_width": null,
            "border": null,
            "align_items": null,
            "bottom": null,
            "_model_module": "@jupyter-widgets/base",
            "top": null,
            "grid_column": null,
            "overflow_y": null,
            "overflow_x": null,
            "grid_auto_flow": null,
            "grid_area": null,
            "grid_template_columns": null,
            "flex": null,
            "_model_name": "LayoutModel",
            "justify_items": null,
            "grid_row": null,
            "max_height": null,
            "align_content": null,
            "visibility": null,
            "align_self": null,
            "height": null,
            "min_height": null,
            "padding": null,
            "grid_auto_rows": null,
            "grid_gap": null,
            "max_width": null,
            "order": null,
            "_view_module_version": "1.2.0",
            "grid_template_areas": null,
            "object_position": null,
            "object_fit": null,
            "grid_auto_columns": null,
            "margin": null,
            "display": null,
            "left": null
          }
        }
      }
    }
  },
  "cells": [
    {
      "cell_type": "markdown",
      "metadata": {
        "id": "view-in-github",
        "colab_type": "text"
      },
      "source": [
        "<a href=\"https://colab.research.google.com/github/Daisuke-lab/segemnation-model/blob/main/segmentation_model.ipynb\" target=\"_parent\"><img src=\"https://colab.research.google.com/assets/colab-badge.svg\" alt=\"Open In Colab\"/></a>"
      ]
    },
    {
      "cell_type": "markdown",
      "metadata": {
        "id": "AhECpifu3K2z"
      },
      "source": [
        "Maybe somthing wrong with Dataset, so follow the kaggle and create a model from scratch and find what is wrong"
      ]
    },
    {
      "cell_type": "markdown",
      "metadata": {
        "id": "W00jnOU-r6aX"
      },
      "source": [
        "With     # mask = np.array(mask)  mask = mask[:, :, np.newaxis], resnetX50\n",
        "\n",
        "/usr/local/lib/python3.6/dist-packages/torch/nn/modules/loss.py:529: UserWarning: Using a target size (torch.Size([16, 1, 128, 128, 1])) that is different to the input size (torch.Size([16, 1, 128, 128])) is deprecated. Please ensure they have the same size"
      ]
    },
    {
      "cell_type": "markdown",
      "metadata": {
        "id": "mkBW5JWlba0k"
      },
      "source": [
        "1. resnext50_32x4dをそのままトライ。まずまずの結果\n",
        "2. resnext50_32x4dにcatalystをつけて行う。lossはclassとなっているloss funcしかだめらしい。smp.utils.losses.DiceLoss()に変更して行う。\n",
        "problem: AttributeError: 'bool' object has no attribute 'state_dict' => sheduler 必須\n",
        "result:真っ黒。なんの結果もでない。\n",
        "3.resnext50_32x4dにcatalystをつけて行う。loss をBCEDiceLossで調べてみる。\n",
        "result:真っ黒。なんの結果もでない。\n",
        "\n",
        "Conclusion:\n",
        "This type of segmentation require its own loss fuction not existing ones. Therefore, it is not comptible with catalyst and you need to make every models from scratch\n"
      ]
    },
    {
      "cell_type": "code",
      "metadata": {
        "id": "pv7P5KbhrUcj",
        "colab": {
          "base_uri": "https://localhost:8080/"
        },
        "outputId": "d959a5d0-8bce-4ccd-d1f5-4d8d6741c785"
      },
      "source": [
        "pip install -U git+https://github.com/albumentations-team/albumentations"
      ],
      "execution_count": null,
      "outputs": [
        {
          "output_type": "stream",
          "text": [
            "Collecting git+https://github.com/albumentations-team/albumentations\n",
            "  Cloning https://github.com/albumentations-team/albumentations to /tmp/pip-req-build-zt1t42gk\n",
            "  Running command git clone -q https://github.com/albumentations-team/albumentations /tmp/pip-req-build-zt1t42gk\n",
            "Requirement already satisfied, skipping upgrade: numpy>=1.11.1 in /usr/local/lib/python3.6/dist-packages (from albumentations==0.5.1) (1.18.5)\n",
            "Requirement already satisfied, skipping upgrade: scipy in /usr/local/lib/python3.6/dist-packages (from albumentations==0.5.1) (1.4.1)\n",
            "Requirement already satisfied, skipping upgrade: scikit-image>=0.16.1 in /usr/local/lib/python3.6/dist-packages (from albumentations==0.5.1) (0.16.2)\n",
            "Collecting imgaug>=0.4.0\n",
            "\u001b[?25l  Downloading https://files.pythonhosted.org/packages/66/b1/af3142c4a85cba6da9f4ebb5ff4e21e2616309552caca5e8acefe9840622/imgaug-0.4.0-py2.py3-none-any.whl (948kB)\n",
            "\u001b[K     |████████████████████████████████| 952kB 2.7MB/s \n",
            "\u001b[?25hRequirement already satisfied, skipping upgrade: PyYAML in /usr/local/lib/python3.6/dist-packages (from albumentations==0.5.1) (3.13)\n",
            "Requirement already satisfied, skipping upgrade: opencv-python>=4.1.1 in /usr/local/lib/python3.6/dist-packages (from albumentations==0.5.1) (4.1.2.30)\n",
            "Requirement already satisfied, skipping upgrade: networkx>=2.0 in /usr/local/lib/python3.6/dist-packages (from scikit-image>=0.16.1->albumentations==0.5.1) (2.5)\n",
            "Requirement already satisfied, skipping upgrade: matplotlib!=3.0.0,>=2.0.0 in /usr/local/lib/python3.6/dist-packages (from scikit-image>=0.16.1->albumentations==0.5.1) (3.2.2)\n",
            "Requirement already satisfied, skipping upgrade: pillow>=4.3.0 in /usr/local/lib/python3.6/dist-packages (from scikit-image>=0.16.1->albumentations==0.5.1) (7.0.0)\n",
            "Requirement already satisfied, skipping upgrade: imageio>=2.3.0 in /usr/local/lib/python3.6/dist-packages (from scikit-image>=0.16.1->albumentations==0.5.1) (2.4.1)\n",
            "Requirement already satisfied, skipping upgrade: PyWavelets>=0.4.0 in /usr/local/lib/python3.6/dist-packages (from scikit-image>=0.16.1->albumentations==0.5.1) (1.1.1)\n",
            "Requirement already satisfied, skipping upgrade: Shapely in /usr/local/lib/python3.6/dist-packages (from imgaug>=0.4.0->albumentations==0.5.1) (1.7.1)\n",
            "Requirement already satisfied, skipping upgrade: six in /usr/local/lib/python3.6/dist-packages (from imgaug>=0.4.0->albumentations==0.5.1) (1.15.0)\n",
            "Requirement already satisfied, skipping upgrade: decorator>=4.3.0 in /usr/local/lib/python3.6/dist-packages (from networkx>=2.0->scikit-image>=0.16.1->albumentations==0.5.1) (4.4.2)\n",
            "Requirement already satisfied, skipping upgrade: kiwisolver>=1.0.1 in /usr/local/lib/python3.6/dist-packages (from matplotlib!=3.0.0,>=2.0.0->scikit-image>=0.16.1->albumentations==0.5.1) (1.3.1)\n",
            "Requirement already satisfied, skipping upgrade: python-dateutil>=2.1 in /usr/local/lib/python3.6/dist-packages (from matplotlib!=3.0.0,>=2.0.0->scikit-image>=0.16.1->albumentations==0.5.1) (2.8.1)\n",
            "Requirement already satisfied, skipping upgrade: cycler>=0.10 in /usr/local/lib/python3.6/dist-packages (from matplotlib!=3.0.0,>=2.0.0->scikit-image>=0.16.1->albumentations==0.5.1) (0.10.0)\n",
            "Requirement already satisfied, skipping upgrade: pyparsing!=2.0.4,!=2.1.2,!=2.1.6,>=2.0.1 in /usr/local/lib/python3.6/dist-packages (from matplotlib!=3.0.0,>=2.0.0->scikit-image>=0.16.1->albumentations==0.5.1) (2.4.7)\n",
            "Building wheels for collected packages: albumentations\n",
            "  Building wheel for albumentations (setup.py) ... \u001b[?25l\u001b[?25hdone\n",
            "  Created wheel for albumentations: filename=albumentations-0.5.1-cp36-none-any.whl size=71852 sha256=d2a2eb764ce32d420af3b2445c3b5f1ecd732f083ab4f8a7d9da1d4f5e672a99\n",
            "  Stored in directory: /tmp/pip-ephem-wheel-cache-9ezvd2ve/wheels/6f/77/82/86baf8aeda64a6de0f890cd0f2fb31acaf5545cc9c99ad21ba\n",
            "Successfully built albumentations\n",
            "Installing collected packages: imgaug, albumentations\n",
            "  Found existing installation: imgaug 0.2.9\n",
            "    Uninstalling imgaug-0.2.9:\n",
            "      Successfully uninstalled imgaug-0.2.9\n",
            "  Found existing installation: albumentations 0.1.12\n",
            "    Uninstalling albumentations-0.1.12:\n",
            "      Successfully uninstalled albumentations-0.1.12\n",
            "Successfully installed albumentations-0.5.1 imgaug-0.4.0\n"
          ],
          "name": "stdout"
        }
      ]
    },
    {
      "cell_type": "code",
      "metadata": {
        "id": "uoHjgjb20mPt",
        "colab": {
          "base_uri": "https://localhost:8080/"
        },
        "outputId": "b605ab44-dbb9-4961-f3ab-0a5610d85ca9"
      },
      "source": [
        "pip install segmentation_models_pytorch"
      ],
      "execution_count": null,
      "outputs": [
        {
          "output_type": "stream",
          "text": [
            "Requirement already satisfied: segmentation_models_pytorch in /usr/local/lib/python3.6/dist-packages (0.1.2)\n",
            "Requirement already satisfied: efficientnet-pytorch==0.6.3 in /usr/local/lib/python3.6/dist-packages (from segmentation_models_pytorch) (0.6.3)\n",
            "Requirement already satisfied: pretrainedmodels==0.7.4 in /usr/local/lib/python3.6/dist-packages (from segmentation_models_pytorch) (0.7.4)\n",
            "Requirement already satisfied: torchvision>=0.3.0 in /usr/local/lib/python3.6/dist-packages (from segmentation_models_pytorch) (0.8.1+cu101)\n",
            "Requirement already satisfied: timm==0.1.20 in /usr/local/lib/python3.6/dist-packages (from segmentation_models_pytorch) (0.1.20)\n",
            "Requirement already satisfied: torch in /usr/local/lib/python3.6/dist-packages (from efficientnet-pytorch==0.6.3->segmentation_models_pytorch) (1.7.0+cu101)\n",
            "Requirement already satisfied: munch in /usr/local/lib/python3.6/dist-packages (from pretrainedmodels==0.7.4->segmentation_models_pytorch) (2.5.0)\n",
            "Requirement already satisfied: tqdm in /usr/local/lib/python3.6/dist-packages (from pretrainedmodels==0.7.4->segmentation_models_pytorch) (4.41.1)\n",
            "Requirement already satisfied: numpy in /usr/local/lib/python3.6/dist-packages (from torchvision>=0.3.0->segmentation_models_pytorch) (1.18.5)\n",
            "Requirement already satisfied: pillow>=4.1.1 in /usr/local/lib/python3.6/dist-packages (from torchvision>=0.3.0->segmentation_models_pytorch) (7.0.0)\n",
            "Requirement already satisfied: typing-extensions in /usr/local/lib/python3.6/dist-packages (from torch->efficientnet-pytorch==0.6.3->segmentation_models_pytorch) (3.7.4.3)\n",
            "Requirement already satisfied: future in /usr/local/lib/python3.6/dist-packages (from torch->efficientnet-pytorch==0.6.3->segmentation_models_pytorch) (0.16.0)\n",
            "Requirement already satisfied: dataclasses in /usr/local/lib/python3.6/dist-packages (from torch->efficientnet-pytorch==0.6.3->segmentation_models_pytorch) (0.7)\n",
            "Requirement already satisfied: six in /usr/local/lib/python3.6/dist-packages (from munch->pretrainedmodels==0.7.4->segmentation_models_pytorch) (1.15.0)\n"
          ],
          "name": "stdout"
        }
      ]
    },
    {
      "cell_type": "code",
      "metadata": {
        "id": "FRfg3SIo_Nc3",
        "colab": {
          "base_uri": "https://localhost:8080/"
        },
        "outputId": "a3a80d8f-ffb3-4f7a-f2ff-12f044184e21"
      },
      "source": [
        "import os\n",
        "import glob\n",
        "import random\n",
        "import time\n",
        "\n",
        "import numpy as np\n",
        "import pandas as pd\n",
        "\n",
        "import cv2\n",
        "import matplotlib.pyplot as plt\n",
        "from mpl_toolkits.axes_grid import ImageGrid\n",
        "\n",
        "import torch\n",
        "import torch.nn as nn\n",
        "import torch.nn.functional as F\n",
        "from torch.utils.data import Dataset, DataLoader\n",
        "import torch.optim as optim\n",
        "from torch.optim import lr_scheduler\n",
        "\n",
        "import albumentations as A\n",
        "import copy\n",
        "from albumentations.pytorch import ToTensor\n",
        "\n",
        "\n",
        "from sklearn.model_selection import train_test_split"
      ],
      "execution_count": null,
      "outputs": [
        {
          "output_type": "stream",
          "text": [
            "/usr/local/lib/python3.6/dist-packages/ipykernel_launcher.py:11: MatplotlibDeprecationWarning: \n",
            "The mpl_toolkits.axes_grid module was deprecated in Matplotlib 2.1 and will be removed two minor releases later. Use mpl_toolkits.axes_grid1 and mpl_toolkits.axisartist, which provide the same functionality instead.\n",
            "  # This is added back by InteractiveShellApp.init_path()\n"
          ],
          "name": "stderr"
        }
      ]
    },
    {
      "cell_type": "code",
      "metadata": {
        "id": "M_tvJ9UP_dX_"
      },
      "source": [
        "df = pd.read_csv('/content/drive/My Drive/Kaggle/kaggle_3m/complete_csv')\n",
        "df = df.loc[:, ~df.columns.str.contains('^Unnamed')]"
      ],
      "execution_count": null,
      "outputs": []
    },
    {
      "cell_type": "code",
      "metadata": {
        "id": "LaJnts6y_jwv"
      },
      "source": [
        "PATCH_SIZE = 128#256\n",
        "transformation = A.Compose([\n",
        "    A.RandomResizedCrop(width = PATCH_SIZE, height = PATCH_SIZE, p=1.0),                  \n",
        "    A.HorizontalFlip(p=0.5),\n",
        "    A.VerticalFlip(p=0.5),\n",
        "    A.RandomRotate90(p=0.5),\n",
        "    A.Transpose(p=0.5),\n",
        "    A.ShiftScaleRotate(shift_limit=0.01, scale_limit=0.04, rotate_limit=0, p=0.25),\n",
        "    \n",
        "    # A.RandomBrightnessContrast(p=0.5),\n",
        "    # A.RandomGamma(p=0.25),\n",
        "    # A.IAAEmboss(p=0.25),\n",
        "    # A.Blur(p=0.01, blur_limit = 3),\n",
        "    \n",
        "    # A.OneOf([\n",
        "    #     A.ElasticTransform(p=0.5, alpha=120, sigma=120 * 0.05, alpha_affine=120 * 0.03),\n",
        "    #     A.GridDistortion(p=0.5),\n",
        "    #     A.OpticalDistortion(p=1, distort_limit=2, shift_limit=0.5)                  \n",
        "    # ], p=0.8),\n",
        "    \n",
        "    A.Normalize(p=1.0),\n",
        "    ToTensor()\n",
        "])"
      ],
      "execution_count": null,
      "outputs": []
    },
    {
      "cell_type": "code",
      "metadata": {
        "id": "Rlyxs8RAJzWe"
      },
      "source": [
        "class CreateDataset(Dataset):\n",
        "  def __init__(self,df, transforms=False, preprocessing=False):\n",
        "    self.transforms = transforms\n",
        "    self.df  = df\n",
        "    self.preprocessing = preprocessing\n",
        "\n",
        "  def __len__(self):\n",
        "    return len(self.df)\n",
        "\n",
        "  def __getitem__(self, idx):\n",
        "\n",
        "    image = cv2.imread(self.df.iloc[idx,1])\n",
        "    image = cv2.cvtColor(image, cv2.COLOR_BGR2RGB)\n",
        "\n",
        "    mask = cv2.imread(self.df.iloc[idx, 2], 0) \n",
        "    # mask = np.array(mask)\n",
        "    # mask = mask[:, :, np.newaxis]\n",
        "\n",
        "    if self.transforms:\n",
        "      augmented = self.transforms(image=image, mask=mask)\n",
        "      image = augmented['image']\n",
        "      mask = augmented['mask']\n",
        "\n",
        "\n",
        "    if self.preprocessing:\n",
        "      preprocessed = self.preprocessing(image=image, mask=mask)\n",
        "      image = preprocessed['image']\n",
        "      mask = preprocessed['mask']\n",
        "\n",
        "      # mask[mask >= 0.5] = 1.0\n",
        "    # mask = mask.squeeze(0)\n",
        "\n",
        "\n",
        "\n",
        "    return image, mask"
      ],
      "execution_count": null,
      "outputs": []
    },
    {
      "cell_type": "code",
      "metadata": {
        "id": "POiY5fGIJ0tc",
        "colab": {
          "base_uri": "https://localhost:8080/"
        },
        "outputId": "c7eed6f6-b989-409e-aa39-557a73f42484"
      },
      "source": [
        "train_df, val_df = train_test_split(df, stratify=df.diagnosis, test_size=0.1)\n",
        "train_df, test_df = train_test_split(train_df, stratify=train_df.diagnosis, test_size=0.15)\n",
        "train_df = train_df.reset_index(drop=True)\n",
        "val_df = val_df.reset_index(drop=True)\n",
        "print(f\"Train: {train_df.shape} \\nVal: {val_df.shape} \\nTest: {test_df.shape}\")"
      ],
      "execution_count": null,
      "outputs": [
        {
          "output_type": "stream",
          "text": [
            "Train: (3005, 4) \n",
            "Val: (393, 4) \n",
            "Test: (531, 4)\n"
          ],
          "name": "stdout"
        }
      ]
    },
    {
      "cell_type": "code",
      "metadata": {
        "id": "8jpHK4MBOOxv"
      },
      "source": [
        "#DATA\n",
        "ENCODER = 'resnet50'\n",
        "ENCODER_WEIGHTS = 'imagenet'\n",
        "DEVICE = 'cuda'\n",
        "device = torch.device('cuda:0' if torch.cuda.is_available() else 'cpu')\n",
        "# train\n",
        "train_dataset = CreateDataset(df=train_df, transforms=transformation, )\n",
        "train_dataloader = DataLoader(train_dataset, batch_size=16, num_workers=4, shuffle=True)\n",
        "\n",
        "# val\n",
        "val_dataset = CreateDataset(df=val_df, transforms=transformation, )\n",
        "val_dataloader = DataLoader(val_dataset, batch_size=16, num_workers=4, shuffle=True)\n",
        "\n",
        "#test\n",
        "test_dataset = CreateDataset(df=test_df, transforms=transformation, )\n",
        "test_dataloader = DataLoader(test_dataset, batch_size=32, num_workers=4, shuffle=True)"
      ],
      "execution_count": null,
      "outputs": []
    },
    {
      "cell_type": "code",
      "metadata": {
        "id": "-F_n1dRYX20N"
      },
      "source": [
        "from torchvision.models import resnext50_32x4d\n",
        "\n",
        "class ConvRelu(nn.Module):\n",
        "    def __init__(self, in_channels, out_channels, kernel, padding):\n",
        "        super().__init__()\n",
        "\n",
        "        self.convrelu = nn.Sequential(\n",
        "            nn.Conv2d(in_channels, out_channels, kernel, padding=padding),\n",
        "            nn.ReLU(inplace=True)\n",
        "        )\n",
        "\n",
        "    def forward(self, x):\n",
        "        x = self.convrelu(x)\n",
        "        return x\n",
        "\n",
        "class DecoderBlock(nn.Module):\n",
        "    def __init__(self, in_channels, out_channels):\n",
        "        super().__init__()\n",
        "        \n",
        "        self.conv1 = ConvRelu(in_channels, in_channels // 4, 1, 0)\n",
        "        \n",
        "        self.deconv = nn.ConvTranspose2d(in_channels // 4, in_channels // 4, kernel_size=4,\n",
        "                                          stride=2, padding=1, output_padding=0)\n",
        "        \n",
        "        self.conv2 = ConvRelu(in_channels // 4, out_channels, 1, 0)\n",
        "\n",
        "    def forward(self, x):\n",
        "        x = self.conv1(x)\n",
        "        x = self.deconv(x)\n",
        "        x = self.conv2(x)\n",
        "\n",
        "        return x"
      ],
      "execution_count": null,
      "outputs": []
    },
    {
      "cell_type": "code",
      "metadata": {
        "id": "dzOzD5ZWH3Xo"
      },
      "source": [
        "class ResNeXtUNet(nn.Module):\n",
        "\n",
        "    def __init__(self, n_classes):\n",
        "        super().__init__()\n",
        "        \n",
        "        self.base_model = resnext50_32x4d(pretrained=True)\n",
        "        self.base_layers = list(self.base_model.children())\n",
        "        filters = [4*64, 4*128, 4*256, 4*512]\n",
        "        \n",
        "        # Down\n",
        "        self.encoder0 = nn.Sequential(*self.base_layers[:3])\n",
        "        self.encoder1 = nn.Sequential(*self.base_layers[4])\n",
        "        self.encoder2 = nn.Sequential(*self.base_layers[5])\n",
        "        self.encoder3 = nn.Sequential(*self.base_layers[6])\n",
        "        self.encoder4 = nn.Sequential(*self.base_layers[7])\n",
        "\n",
        "        # Up\n",
        "        self.decoder4 = DecoderBlock(filters[3], filters[2])\n",
        "        self.decoder3 = DecoderBlock(filters[2], filters[1])\n",
        "        self.decoder2 = DecoderBlock(filters[1], filters[0])\n",
        "        self.decoder1 = DecoderBlock(filters[0], filters[0])\n",
        "\n",
        "        # Final Classifier\n",
        "        self.last_conv0 = ConvRelu(256, 128, 3, 1)\n",
        "        self.last_conv1 = nn.Conv2d(128, n_classes, 3, padding=1)\n",
        "                       \n",
        "        \n",
        "    def forward(self, x):\n",
        "        # Down\n",
        "        x = self.encoder0(x)\n",
        "        e1 = self.encoder1(x)\n",
        "        e2 = self.encoder2(e1)\n",
        "        e3 = self.encoder3(e2)\n",
        "        e4 = self.encoder4(e3)\n",
        "\n",
        "        # Up + sc\n",
        "        d4 = self.decoder4(e4) + e3\n",
        "        d3 = self.decoder3(d4) + e2\n",
        "        d2 = self.decoder2(d3) + e1\n",
        "        d1 = self.decoder1(d2)\n",
        "        #print(d1.shape)\n",
        "\n",
        "        # final classifier\n",
        "        out = self.last_conv0(d1)\n",
        "        out = self.last_conv1(out)\n",
        "        out = torch.sigmoid(out)\n",
        "        \n",
        "        return out"
      ],
      "execution_count": null,
      "outputs": []
    },
    {
      "cell_type": "code",
      "metadata": {
        "id": "0WoY9_Lfcwao"
      },
      "source": [
        "#LOSS_FUNC\n",
        "\n",
        "#this function is a part of bce_dice_loss\n",
        "def dice_coef_loss(inputs, target):\n",
        "    smooth = 1.0\n",
        "    intersection = 2.0 * ((target * inputs).sum()) + smooth\n",
        "    union = target.sum() + inputs.sum() + smooth\n",
        "\n",
        "    return 1 - (intersection / union)\n",
        "\n",
        "\n",
        "def bce_dice_loss(inputs, target):\n",
        "    dicescore = dice_coef_loss(inputs, target)\n",
        "    bcescore = nn.BCELoss()\n",
        "    bceloss = bcescore(inputs, target)\n",
        "\n",
        "    return bceloss + dicescore\n",
        "\n",
        "\n",
        "\n",
        "\n",
        "\n",
        "\n",
        "def dice_coef_metric(inputs, target):\n",
        "    intersection = 2.0 * (target * inputs).sum()\n",
        "    union = target.sum() + inputs.sum()\n",
        "    if target.sum() == 0 and inputs.sum() == 0:\n",
        "        return 1.0\n",
        "\n",
        "    return intersection / union"
      ],
      "execution_count": null,
      "outputs": []
    },
    {
      "cell_type": "code",
      "metadata": {
        "id": "M67VJO8acO8N"
      },
      "source": [
        "def train_model(model_name, model, train_loader, val_loader, train_loss, optimizer, lr_scheduler, num_epochs):  \n",
        "    \n",
        "    print(model_name)\n",
        "    loss_history = []\n",
        "    train_history = []\n",
        "    val_history = []\n",
        "\n",
        "    for epoch in range(num_epochs):\n",
        "        model.train() # Enter train mode\n",
        "        \n",
        "        losses = []\n",
        "        train_iou = []\n",
        "                \n",
        "        if lr_scheduler:\n",
        "            \n",
        "            warmup_factor = 1.0 / 100\n",
        "            warmup_iters = min(100, len(train_loader) - 1)\n",
        "            lr_scheduler = warmup_lr_scheduler(optimizer, warmup_iters, warmup_factor)\n",
        "        \n",
        "        \n",
        "        for i_step, (data, target) in enumerate(train_loader):\n",
        "            data = data.to(device)\n",
        "            target = target.to(device)\n",
        "                      \n",
        "            outputs = model(data)\n",
        "            \n",
        "            out_cut = np.copy(outputs.data.cpu().numpy())\n",
        "            out_cut[np.nonzero(out_cut < 0.5)] = 0.0\n",
        "            out_cut[np.nonzero(out_cut >= 0.5)] = 1.0\n",
        "            \n",
        "            train_dice = dice_coef_metric(out_cut, target.data.cpu().numpy())\n",
        "            \n",
        "            loss = train_loss(outputs, target)\n",
        "            \n",
        "            losses.append(loss.item())\n",
        "            train_iou.append(train_dice)\n",
        "\n",
        "            optimizer.zero_grad()\n",
        "            loss.backward()\n",
        "            optimizer.step()\n",
        "    \n",
        "            if lr_scheduler:\n",
        "                lr_scheduler.step()\n",
        " \n",
        "        #torch.save(model.state_dict(), f'{model_name}_{str(epoch)}_epoch.pt')\n",
        "        val_mean_iou = compute_iou(model, val_loader)\n",
        "        \n",
        "        loss_history.append(np.array(losses).mean())\n",
        "        train_history.append(np.array(train_iou).mean())\n",
        "        val_history.append(val_mean_iou)\n",
        "        \n",
        "        print(\"Epoch [%d]\" % (epoch))\n",
        "        print(\"Mean loss on train:\", np.array(losses).mean(), \n",
        "              \"\\nMean DICE on train:\", np.array(train_iou).mean(), \n",
        "              \"\\nMean DICE on validation:\", val_mean_iou)\n",
        "        \n",
        "    return loss_history, train_history, val_history\n",
        "\n",
        "\n",
        "def compute_iou(model, loader, threshold=0.3):\n",
        "    \"\"\"\n",
        "    Computes accuracy on the dataset wrapped in a loader\n",
        "    \n",
        "    Returns: accuracy as a float value between 0 and 1\n",
        "    \"\"\"\n",
        "    #model.eval()\n",
        "    valloss = 0\n",
        "    \n",
        "    with torch.no_grad():\n",
        "\n",
        "        for i_step, (data, target) in enumerate(loader):\n",
        "            \n",
        "            data = data.to(device)\n",
        "            target = target.to(device)\n",
        "            #prediction = model(x_gpu)\n",
        "            \n",
        "            outputs = model(data)\n",
        "           # print(\"val_output:\", outputs.shape)\n",
        "\n",
        "            out_cut = np.copy(outputs.data.cpu().numpy())\n",
        "            out_cut[np.nonzero(out_cut < threshold)] = 0.0\n",
        "            out_cut[np.nonzero(out_cut >= threshold)] = 1.0\n",
        "\n",
        "            picloss = dice_coef_metric(out_cut, target.data.cpu().numpy())\n",
        "            valloss += picloss\n",
        "\n",
        "        #print(\"Threshold:  \" + str(threshold) + \"  Validation DICE score:\", valloss / i_step)\n",
        "\n",
        "    return valloss / i_step"
      ],
      "execution_count": null,
      "outputs": []
    },
    {
      "cell_type": "code",
      "metadata": {
        "id": "vrl9xgFdjFnX",
        "colab": {
          "base_uri": "https://localhost:8080/",
          "height": 104,
          "referenced_widgets": [
            "5ad81a008a84432689ee734c13a654f0",
            "ea4812f1870e4db2b74a4b3cc86bd834",
            "48fe44350ea041fa86cc4b5371cef91a",
            "504df944ec594db0b358ce186e7f2dc0",
            "5909ca9d61674086922e40f5ec9e361e",
            "5aa13267f901456489c1aacd9be93ca1",
            "db21cfcc5eec44d0bd5343e94d9e36ba",
            "02cf0c4f4b2a466aa6b9aa4dd337d4c3"
          ]
        },
        "outputId": "ec5d33e7-0eac-4d48-c540-11855e91e40d"
      },
      "source": [
        "rx50 = ResNeXtUNet(n_classes=1).to(device)"
      ],
      "execution_count": null,
      "outputs": [
        {
          "output_type": "stream",
          "text": [
            "Downloading: \"https://download.pytorch.org/models/resnext50_32x4d-7cdf4587.pth\" to /root/.cache/torch/hub/checkpoints/resnext50_32x4d-7cdf4587.pth\n"
          ],
          "name": "stderr"
        },
        {
          "output_type": "display_data",
          "data": {
            "application/vnd.jupyter.widget-view+json": {
              "model_id": "5ad81a008a84432689ee734c13a654f0",
              "version_minor": 0,
              "version_major": 2
            },
            "text/plain": [
              "HBox(children=(FloatProgress(value=0.0, max=100441675.0), HTML(value='')))"
            ]
          },
          "metadata": {
            "tags": []
          }
        },
        {
          "output_type": "stream",
          "text": [
            "\n"
          ],
          "name": "stdout"
        }
      ]
    },
    {
      "cell_type": "code",
      "metadata": {
        "id": "xb75yCXdjTRd",
        "colab": {
          "base_uri": "https://localhost:8080/"
        },
        "outputId": "e3dccb47-b05b-463c-cfa8-22d1d686a101"
      },
      "source": [
        "rx50_optimizer = torch.optim.Adam(rx50.parameters(), lr=5e-4)\n",
        "num_ep = 10 \n",
        "rx50_lh, rx50_th, rx50_vh = train_model(\"ResNeXt50\", rx50, train_dataloader, val_dataloader, bce_dice_loss, rx50_optimizer, False, num_ep)"
      ],
      "execution_count": null,
      "outputs": [
        {
          "output_type": "stream",
          "text": [
            "ResNeXt50\n",
            "Epoch [0]\n",
            "Mean loss on train: 0.5454272784768267 \n",
            "Mean DICE on train: 0.561180742017866 \n",
            "Mean DICE on validation: 0.6091395423169516\n",
            "Epoch [1]\n",
            "Mean loss on train: 0.4408134530357858 \n",
            "Mean DICE on train: 0.6416067852284106 \n",
            "Mean DICE on validation: 0.646029289290901\n",
            "Epoch [2]\n",
            "Mean loss on train: 0.365361819440063 \n",
            "Mean DICE on train: 0.7034180274991599 \n",
            "Mean DICE on validation: 0.7091783830732808\n",
            "Epoch [3]\n",
            "Mean loss on train: 0.3433455539906913 \n",
            "Mean DICE on train: 0.7196730539647167 \n",
            "Mean DICE on validation: 0.6359911992845754\n",
            "Epoch [4]\n",
            "Mean loss on train: 0.3493992303042336 \n",
            "Mean DICE on train: 0.7130254356805606 \n",
            "Mean DICE on validation: 0.7412724113131489\n",
            "Epoch [5]\n",
            "Mean loss on train: 0.3725822846543916 \n",
            "Mean DICE on train: 0.6944274510631508 \n",
            "Mean DICE on validation: 0.6947092760291559\n",
            "Epoch [6]\n",
            "Mean loss on train: 0.3456539404677584 \n",
            "Mean DICE on train: 0.7145965445882025 \n",
            "Mean DICE on validation: 0.7820210255217654\n",
            "Epoch [7]\n",
            "Mean loss on train: 0.29520665184455985 \n",
            "Mean DICE on train: 0.7560546983274414 \n",
            "Mean DICE on validation: 0.7359790833030839\n",
            "Epoch [8]\n",
            "Mean loss on train: 0.290443988952865 \n",
            "Mean DICE on train: 0.7619427427093969 \n",
            "Mean DICE on validation: 0.7729043617336456\n",
            "Epoch [9]\n",
            "Mean loss on train: 0.29193144703799107 \n",
            "Mean DICE on train: 0.7591479987944734 \n",
            "Mean DICE on validation: 0.6740490187258005\n"
          ],
          "name": "stdout"
        }
      ]
    },
    {
      "cell_type": "markdown",
      "metadata": {
        "id": "U6gdoW4Ym1L3"
      },
      "source": [
        "rx50_lh=[0.5454272784768267,\n",
        " 0.4408134530357858,\n",
        " 0.365361819440063,\n",
        " 0.3433455539906913,\n",
        " 0.3493992303042336,\n",
        " 0.3725822846543916,\n",
        " 0.3456539404677584,\n",
        " 0.29520665184455985,\n",
        " 0.290443988952865,\n",
        " 0.29193144703799107]"
      ]
    },
    {
      "cell_type": "markdown",
      "metadata": {
        "id": "LgQ-zBQ1nDTv"
      },
      "source": [
        "rx50_th=[0.561180742017866,\n",
        " 0.6416067852284106,\n",
        " 0.7034180274991599,\n",
        " 0.7196730539647167,\n",
        " 0.7130254356805606,\n",
        " 0.6944274510631508,\n",
        " 0.7145965445882025,\n",
        " 0.7560546983274414,\n",
        " 0.7619427427093969,\n",
        " 0.7591479987944734]"
      ]
    },
    {
      "cell_type": "markdown",
      "metadata": {
        "id": "ub81Zz4TnNBf"
      },
      "source": [
        "rx50_vh=[0.6091395423169516,\n",
        " 0.646029289290901,\n",
        " 0.7091783830732808,\n",
        " 0.6359911992845754,\n",
        " 0.7412724113131489,\n",
        " 0.6947092760291559,\n",
        " 0.7820210255217654,\n",
        " 0.7359790833030839,\n",
        " 0.7729043617336456,\n",
        " 0.6740490187258005]"
      ]
    },
    {
      "cell_type": "code",
      "metadata": {
        "id": "UUH0KFvFmHaK"
      },
      "source": [
        "import pickle\n",
        "f = open('/content/drive/My Drive/rx50_lh.txt', 'wb')\n",
        "pickle.dump(rx50_lh, f)"
      ],
      "execution_count": null,
      "outputs": []
    },
    {
      "cell_type": "code",
      "metadata": {
        "id": "7Y80TdApQDLG",
        "colab": {
          "base_uri": "https://localhost:8080/",
          "height": 607
        },
        "outputId": "8b363e15-7cfb-4cb9-af38-6e02d5a1cd32"
      },
      "source": [
        "test_sample = test_df[test_df[\"diagnosis\"] == 1].sample(1).values[0]\n",
        "image = cv2.resize(cv2.imread(test_sample[1]), (128, 128))\n",
        "\n",
        "mask = cv2.resize(cv2.imread(test_sample[2]), (128, 128))\n",
        "\n",
        "# pred\n",
        "pred = torch.tensor(image.astype(np.float32) / 255.).unsqueeze(0).permute(0,3,1,2)\n",
        "pred = rx50(pred.to(device))\n",
        "pred = pred.detach().cpu().numpy()[0,0,:,:]\n",
        "\n",
        "# pred with tshd\n",
        "pred_t = np.copy(pred)\n",
        "pred_t[np.nonzero(pred_t < 0.3)] = 0.0\n",
        "pred_t[np.nonzero(pred_t >= 0.3)] = 255.#1.0\n",
        "pred_t = pred_t.astype(\"uint8\")\n",
        "\n",
        "# plot\n",
        "fig, ax = plt.subplots(nrows=2,  ncols=2, figsize=(10, 10))\n",
        "\n",
        "ax[0, 0].imshow(image)\n",
        "ax[0, 0].set_title(\"image\")\n",
        "ax[0, 1].imshow(mask)\n",
        "ax[0, 1].set_title(\"mask\")\n",
        "ax[1, 0].imshow(pred)\n",
        "ax[1, 0].set_title(\"prediction\")\n",
        "ax[1, 1].imshow(pred_t)\n",
        "ax[1, 1].set_title(\"prediction with threshold\")\n",
        "plt.show()\n",
        "#fig.savefig(\"/content/drive/My Drive/brain_rx50.jpg\")"
      ],
      "execution_count": null,
      "outputs": [
        {
          "output_type": "display_data",
          "data": {
            "image/png": "[encoded data removed]",
            "text/plain": [
              "<Figure size 720x720 with 4 Axes>"
            ]
          },
          "metadata": {
            "tags": [],
            "needs_background": "light"
          }
        }
      ]
    },
    {
      "cell_type": "code",
      "metadata": {
        "id": "XVJ-2UzkdwMg"
      },
      "source": [
        "test_sample = test_df[test_df[\"diagnosis\"] == 1].sample(1).values[0]\n",
        "image = cv2.resize(cv2.imread(test_sample[1]), (128, 128))\n",
        "\n",
        "mask = cv2.resize(cv2.imread(test_sample[2]), (128, 128))\n",
        "\n",
        "# pred\n",
        "pred = torch.tensor(image.astype(np.float32) / 255.).unsqueeze(0).permute(0,3,1,2)\n",
        "pred = rx50(pred.to(device))\n",
        "pred = pred.detach().cpu().numpy()[0,0,:,:]\n",
        "\n",
        "# pred with tshd\n",
        "pred_t = np.copy(pred)\n",
        "pred_t[np.nonzero(pred_t < 0.3)] = 0.0\n",
        "pred_t[np.nonzero(pred_t >= 0.3)] = 255.#1.0\n",
        "pred_t = pred_t.astype(\"uint8\")\n",
        "\n",
        "# plot\n",
        "fig, ax = plt.subplots(nrows=2,  ncols=2, figsize=(10, 10))\n",
        "\n",
        "ax[0, 0].imshow(image)\n",
        "ax[0, 0].set_title(\"image\")\n",
        "ax[0, 1].imshow(mask)\n",
        "ax[0, 1].set_title(\"mask\")\n",
        "ax[1, 0].imshow(pred)\n",
        "ax[1, 0].set_title(\"prediction\")\n",
        "ax[1, 1].imshow(pred_t)\n",
        "ax[1, 1].set_title(\"prediction with threshold\")\n",
        "plt.show()"
      ],
      "execution_count": null,
      "outputs": []
    },
    {
      "cell_type": "code",
      "metadata": {
        "id": "rLiid1mUa6ca"
      },
      "source": [
        "test_sample = test_df[test_df[\"diagnosis\"] == 1].sample(1).values[0]\n",
        "image = cv2.resize(cv2.imread(test_sample[1]), (128, 128))\n",
        "\n",
        "mask = cv2.resize(cv2.imread(test_sample[2]), (128, 128))\n",
        "\n",
        "# pred\n",
        "pred = torch.tensor(image.astype(np.float32) / 255.).unsqueeze(0).permute(0,3,1,2)\n",
        "pred = rx50(pred.to(device))\n",
        "pred = pred.detach().cpu().numpy()[0,0,:,:]\n",
        "\n",
        "# pred with tshd\n",
        "pred_t = np.copy(pred)\n",
        "pred_t[np.nonzero(pred_t < 0.3)] = 0.0\n",
        "pred_t[np.nonzero(pred_t >= 0.3)] = 255.#1.0\n",
        "pred_t = pred_t.astype(\"uint8\")\n",
        "\n",
        "# plot\n",
        "fig, ax = plt.subplots(nrows=2,  ncols=2, figsize=(10, 10))\n",
        "\n",
        "ax[0, 0].imshow(image)\n",
        "ax[0, 0].set_title(\"image\")\n",
        "ax[0, 1].imshow(mask)\n",
        "ax[0, 1].set_title(\"mask\")\n",
        "ax[1, 0].imshow(pred)\n",
        "ax[1, 0].set_title(\"prediction\")\n",
        "ax[1, 1].imshow(pred_t)\n",
        "ax[1, 1].set_title(\"prediction with threshold\")\n",
        "plt.show()"
      ],
      "execution_count": null,
      "outputs": []
    },
    {
      "cell_type": "code",
      "metadata": {
        "id": "CmTR_alcwrKF"
      },
      "source": [
        ""
      ],
      "execution_count": null,
      "outputs": []
    }
  ]
}